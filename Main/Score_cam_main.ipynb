{
 "cells": [
  {
   "cell_type": "code",
   "execution_count": 2,
   "metadata": {
    "pycharm": {
     "name": "#%%\n"
    }
   },
   "outputs": [
    {
     "name": "stdout",
     "output_type": "stream",
     "text": [
      "Average Drop(AD): 43.75\n",
      "Increase of confidence(Ioc): 12.959999999999999\n",
      "Increased Average Drop(IAD): 41.5\n",
      "Decrease of Confidence(Doc): 10.84\n"
     ]
    }
   ],
   "source": [
    "#importing Libraries\n",
    "import tensorflow as tf\n",
    "from score_cam import ScoreCam\n",
    "from utils import pre_process_input,evaluate_metrics,final_metrics\n",
    "\n",
    "#hyper_parameters\n",
    "No_of_images = 2500\n",
    "batch_size = 50\n",
    "img_size = 224\n",
    "layer_id = [-6]\n",
    "img_dir = '/Input_data'\n",
    "model_name = 'vgg16'\n",
    "\n",
    "#variables for loop and metrics evaluation\n",
    "so_ba = 0\n",
    "sum_i = count_Ioc = sum_un = count_Doc = 0\n",
    "\n",
    "#number of batches taken to evaluate\n",
    "steps = int(No_of_images / batch_size)\n",
    "\n",
    "#images_in_batch\n",
    "batch_holder,images = pre_process_input(No_of_images,img_dir,img_size,model_name)\n",
    "\n",
    "#Pre-Trained Vgg-16 model\n",
    "model = tf.keras.applications.vgg16.VGG16(\n",
    "    include_top=True, weights='imagenet',classes=1000)\n",
    "\n",
    "#scorecam computation and its metrics.\n",
    "for i in range(steps):\n",
    "    print(i)\n",
    "    score_cam_batch,original_images,batch_holder_image = ScoreCam(batch_holder,images,model,layer_id,batch_size,so_ba,img_size)\n",
    "    sum_i,count_Ioc,sum_un,count_Doc,so_ba = evaluate_metrics(score_cam_batch,batch_holder_image,original_images,model,so_ba,batch_size,sum_i,count_Ioc,sum_un,count_Doc,model_name)\n",
    "final_metrics(sum_i,count_Ioc,sum_un,count_Doc,No_of_images)"
   ]
  },
  {
   "cell_type": "code",
   "execution_count": null,
   "metadata": {
    "pycharm": {
     "name": "#%%\n"
    }
   },
   "outputs": [],
   "source": []
  }
 ],
 "metadata": {
  "kernelspec": {
   "display_name": "Python 3 (ipykernel)",
   "language": "python",
   "name": "python3"
  },
  "language_info": {
   "codemirror_mode": {
    "name": "ipython",
    "version": 3
   },
   "file_extension": ".py",
   "mimetype": "text/x-python",
   "name": "python",
   "nbconvert_exporter": "python",
   "pygments_lexer": "ipython3",
   "version": "3.9.7"
  }
 },
 "nbformat": 4,
 "nbformat_minor": 1
}
