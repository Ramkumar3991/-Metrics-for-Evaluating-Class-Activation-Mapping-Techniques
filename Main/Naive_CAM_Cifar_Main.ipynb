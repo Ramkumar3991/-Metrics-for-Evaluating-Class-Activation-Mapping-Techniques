{
 "cells": [
  {
   "cell_type": "code",
   "execution_count": 1,
   "metadata": {},
   "outputs": [
    {
     "name": "stdout",
     "output_type": "stream",
     "text": [
      "0\n",
      "1\n",
      "2\n",
      "3\n",
      "4\n",
      "Average Drop(AD): 28.57\n",
      "Increase of confidence(Ioc): 12.04\n",
      "Increased Average Drop(IAD): 45.7\n",
      "Decrease of Confidence(Doc): 4.760000000000001\n"
     ]
    }
   ],
   "source": [
    "#importting Libraries\n",
    "from utils import pre_process_cifar_input,evaluate_metrics,final_metrics\n",
    "import tensorflow as tf\n",
    "from Model_for_Cifar import build_model\n",
    "from naive_cam import cam_vis_model,compute_naive_cam\n",
    "\n",
    "#hyper_parameters\n",
    "No_of_images = 2500\n",
    "batch_size = 500\n",
    "layer_id = [-1,-3]  #layer to consider for cam computation\n",
    "img_size =32\n",
    "weight_dir = 'H:\\\\cifar_model.h5'\n",
    "num_classes =10\n",
    "model_name = 'custom_model'\n",
    "\n",
    "\n",
    "#variables for loop and metrics evalaution\n",
    "so_ba = 0\n",
    "sum_i = count_Ioc = sum_un = count_Doc = 0\n",
    "\n",
    "\n",
    "#number of batches taken to evaluate\n",
    "steps = int(No_of_images / batch_size)\n",
    "\n",
    "#images_in_batch\n",
    "batch_holder,images = pre_process_cifar_input(No_of_images)\n",
    "\n",
    "#custom-mode-cifar vgg16 model\n",
    "model = build_model(num_classes,weight_dir)\n",
    "vis_model, weights = cam_vis_model(model,layer_id)\n",
    "\n",
    "#cam computation and its metrics.\n",
    "for i in range(steps):\n",
    "    print(i)\n",
    "    cam_batch,original_images,batch_holder_image = compute_naive_cam(batch_holder,images,vis_model,weights,batch_size,so_ba,img_size)\n",
    "    sum_i,count_Ioc,sum_un,count_Doc,so_ba = evaluate_metrics(cam_batch,batch_holder_image,original_images,model,so_ba,batch_size,sum_i,count_Ioc,sum_un,count_Doc,model_name)\n",
    "final_metrics(sum_i,count_Ioc,sum_un,count_Doc,No_of_images)\n"
   ]
  },
  {
   "cell_type": "code",
   "execution_count": null,
   "metadata": {
    "pycharm": {
     "is_executing": true
    }
   },
   "outputs": [],
   "source": []
  },
  {
   "cell_type": "code",
   "execution_count": 1,
   "outputs": [],
   "source": [],
   "metadata": {
    "collapsed": false,
    "pycharm": {
     "name": "#%%\n"
    }
   }
  },
  {
   "cell_type": "code",
   "execution_count": null,
   "outputs": [],
   "source": [],
   "metadata": {
    "collapsed": false,
    "pycharm": {
     "name": "#%%\n"
    }
   }
  }
 ],
 "metadata": {
  "kernelspec": {
   "display_name": "Python 3",
   "language": "python",
   "name": "python3"
  },
  "language_info": {
   "codemirror_mode": {
    "name": "ipython",
    "version": 3
   },
   "file_extension": ".py",
   "mimetype": "text/x-python",
   "name": "python",
   "nbconvert_exporter": "python",
   "pygments_lexer": "ipython3",
   "version": "3.7.3"
  }
 },
 "nbformat": 4,
 "nbformat_minor": 2
}