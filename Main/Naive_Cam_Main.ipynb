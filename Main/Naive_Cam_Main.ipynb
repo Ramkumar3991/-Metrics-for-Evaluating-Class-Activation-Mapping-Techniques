{
 "cells": [
  {
   "cell_type": "code",
   "execution_count": 4,
   "metadata": {
    "pycharm": {
     "is_executing": true,
     "name": "#%%\n"
    }
   },
   "outputs": [
    {
     "name": "stdout",
     "output_type": "stream",
     "text": [
      "Average Drop(AD): 26.14\n",
      "Increase of confidence(Ioc): 27.200000000000003\n",
      "Increased Average Drop(IAD): 48.34\n",
      "Decrease of Confidence(Doc): 9.44\n"
     ]
    }
   ],
   "source": [
    "#importing Libraries\n",
    "from utils import pre_process_input,evaluate_metrics,final_metrics\n",
    "import tensorflow as tf\n",
    "from naive_cam import cam_vis_model,compute_naive_cam\n",
    "\n",
    "#hyper_parameters\n",
    "No_of_images = 2500\n",
    "batch_size = 250\n",
    "img_size = 224\n",
    "layer_id = [-1,-3] #layer to consider for cam computation\n",
    "img_dir = '/Input_data'\n",
    "model_name = 'resnet50'\n",
    "\n",
    "#variables for loop and metrics evalaution\n",
    "so_ba = 0\n",
    "sum_i = count_Ioc = sum_un = count_Doc = 0\n",
    "\n",
    "#number of batches taken to evaluate\n",
    "steps = int(No_of_images / batch_size)\n",
    "\n",
    "#images_in_batch\n",
    "batch_holder,images = pre_process_input(No_of_images,img_dir,img_size,model_name)\n",
    "\n",
    "\n",
    "#pre-trained resnet50 model\n",
    "model = tf.keras.applications.resnet50.ResNet50(\n",
    "    include_top=True, weights='imagenet',classes=1000)\n",
    "\n",
    "#model definition for cam\n",
    "vis_model, weights = cam_vis_model(model,layer_id)\n",
    "\n",
    "#cam computation and its metrics.\n",
    "for i in range(steps):\n",
    "    print(i)\n",
    "    cam_batch,original_images,batch_holder_image = compute_naive_cam(batch_holder,images,vis_model,weights,batch_size,so_ba,img_size)\n",
    "    sum_i,count_Ioc,sum_un,count_Doc,so_ba = evaluate_metrics(cam_batch,batch_holder_image,original_images,model,so_ba,batch_size,sum_i,count_Ioc,sum_un,count_Doc,model_name)\n",
    "final_metrics(sum_i,count_Ioc,sum_un,count_Doc,No_of_images)\n"
   ]
  },
  {
   "cell_type": "code",
   "execution_count": null,
   "metadata": {},
   "outputs": [],
   "source": []
  }
 ],
 "metadata": {
  "kernelspec": {
   "display_name": "Python 3 (ipykernel)",
   "language": "python",
   "name": "python3"
  },
  "language_info": {
   "codemirror_mode": {
    "name": "ipython",
    "version": 3
   },
   "file_extension": ".py",
   "mimetype": "text/x-python",
   "name": "python",
   "nbconvert_exporter": "python",
   "pygments_lexer": "ipython3",
   "version": "3.9.7"
  }
 },
 "nbformat": 4,
 "nbformat_minor": 2
}
