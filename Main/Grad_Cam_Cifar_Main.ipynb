{
 "cells": [
  {
   "cell_type": "code",
   "execution_count": 1,
   "metadata": {},
   "outputs": [
    {
     "name": "stdout",
     "output_type": "stream",
     "text": [
      "0\n",
      "1\n",
      "2\n",
      "3\n",
      "4\n",
      "Average Drop(AD): 61.83\n",
      "Increase of confidence(Ioc): 4.32\n",
      "Increased Average Drop(IAD): 33.5\n",
      "Decrease of Confidence(Doc): 5.56\n"
     ]
    }
   ],
   "source": [
    "#importting Libraries\n",
    "from utils import pre_process_cifar_input,evaluate_metrics,final_metrics\n",
    "import tensorflow as tf\n",
    "from grad_cam import compute_gradcam\n",
    "from Model_for_Cifar import build_model\n",
    "\n",
    "#hyper_parameters\n",
    "No_of_images = 2500\n",
    "batch_size = 500\n",
    "layer_id = [-3]        #layer id to consider for gradcam computation\n",
    "img_size =32\n",
    "weight_dir = 'H:\\\\cifar_model.h5'\n",
    "num_classes =10\n",
    "model_name = 'custom_model'\n",
    "\n",
    "#variables for loop and metrics evalaution\n",
    "so_ba = 0\n",
    "sum_i = count_Ioc = sum_un = count_Doc = 0\n",
    "\n",
    "#number of batches taken to evaluate\n",
    "steps = int(No_of_images / batch_size)\n",
    "\n",
    "#images_in_batch\n",
    "batch_holder,images = pre_process_cifar_input(No_of_images)\n",
    "\n",
    "#pre-trained vgg16 model\n",
    "model = build_model(num_classes,weight_dir)\n",
    "\n",
    "#gradcam computation and its metrics.\n",
    "for i in range(steps):\n",
    "    print(i)\n",
    "    gradcam_batch,original_images,batch_holder_image = compute_gradcam(batch_holder,images,model,layer_id,batch_size,so_ba,img_size)\n",
    "    sum_i,count_Ioc,sum_un,count_Doc,so_ba = evaluate_metrics(gradcam_batch,batch_holder_image,original_images,model,so_ba,batch_size,sum_i,count_Ioc,sum_un,count_Doc,model_name)\n",
    "final_metrics(sum_i,count_Ioc,sum_un,count_Doc,No_of_images)"
   ]
  },
  {
   "cell_type": "code",
   "execution_count": null,
   "metadata": {},
   "outputs": [],
   "source": []
  },
  {
   "cell_type": "code",
   "execution_count": null,
   "outputs": [],
   "source": [],
   "metadata": {
    "collapsed": false,
    "pycharm": {
     "name": "#%%\n"
    }
   }
  }
 ],
 "metadata": {
  "kernelspec": {
   "display_name": "Python 3",
   "language": "python",
   "name": "python3"
  },
  "language_info": {
   "codemirror_mode": {
    "name": "ipython",
    "version": 3
   },
   "file_extension": ".py",
   "mimetype": "text/x-python",
   "name": "python",
   "nbconvert_exporter": "python",
   "pygments_lexer": "ipython3",
   "version": "3.7.3"
  }
 },
 "nbformat": 4,
 "nbformat_minor": 2
}